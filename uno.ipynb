# 1. INSTALACIÓN

## <font color="blue">Instalación de Anaconda</font>

La siguiente serie de pasos te permitirá instalar de forma correcta el Navegador de Anaconda, en donde encontraremos los cuadernos electrónicos de Jupyter.

1. Accede a tu navegador de internet
2. Realiza la búsqueda de **<font color="green">anaconda python/r distribution - free  download</font>** o accede al siguiente link : https://www.anaconda.com/products/individual

![newnotebook](./Imágenes/Anaconda Install 1.png)
   
