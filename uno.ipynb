{
 "cells": [
  {
   "cell_type": "markdown",
   "id": "d8f958a5",
   "metadata": {},
   "source": [
    "# 1. INSTALACIÓN\n",
    "\n",
    "## <font color=\"blue\">Instalación de Anaconda</font>\n",
    "\n",
    "La siguiente serie de pasos te permitirá instalar de forma correcta el Navegador de Anaconda, en donde encontraremos los cuadernos electrónicos de Jupyter.\n",
    "\n",
    "1. Accede a tu navegador de internet\n",
    "2. Realiza la búsqueda de **<font color=\"green\">anaconda python/r distribution - free  download</font>** o accede al siguiente link : https://www.anaconda.com/products/individual\n",
    "\n",
    "![newnotebook](./Imágenes/Anaconda Install 1.png)\n",
    "   \n"
   ]
  },
  {
   "cell_type": "code",
   "execution_count": null,
   "id": "99999c08",
   "metadata": {},
   "outputs": [],
   "source": []
  },
  {
   "cell_type": "code",
   "execution_count": null,
   "id": "37a6f7c3",
   "metadata": {},
   "outputs": [],
   "source": []
  }
 ],
 "metadata": {
  "kernelspec": {
   "display_name": "Python 3 (ipykernel)",
   "language": "python",
   "name": "python3"
  },
  "language_info": {
   "codemirror_mode": {
    "name": "ipython",
    "version": 3
   },
   "file_extension": ".py",
   "mimetype": "text/x-python",
   "name": "python",
   "nbconvert_exporter": "python",
   "pygments_lexer": "ipython3",
   "version": "3.9.7"
  }
 },
 "nbformat": 4,
 "nbformat_minor": 5
}

   
