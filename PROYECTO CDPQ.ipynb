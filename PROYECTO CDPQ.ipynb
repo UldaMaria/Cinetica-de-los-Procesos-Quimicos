{
 "cells": [
  {
   "cell_type": "markdown",
   "metadata": {},
   "source": [
    "# Proyecto \n",
    "## Reacción de síntesis de Metanotiol en un reactor PFR\n",
    "\n",
    "Enunciado del Problema"
   ]
  },
  {
   "cell_type": "code",
   "execution_count": 77,
   "metadata": {},
   "outputs": [],
   "source": [
    "#Librería para evaluar la integral de la fórmula del reactor PFR\n",
    "from sympy import *\n",
    "init_printing()"
   ]
  },
  {
   "cell_type": "markdown",
   "metadata": {},
   "source": [
    "La siguiente reacción se verifica a 800 °C y a una presión constante de 1 atm. En un reactor de flujo de tipo tapón:\n",
    "  \n",
    "  \n",
    "\n",
    "<p><center> $CH_{4} + S \\rightarrow CH_{3} SH$</center></p>\n",
    "\n",
    "La velocidad de la reacción a 800°C está dada por la expresión:\n",
    "\n",
    "<p><center> $-r_{A} = k * C_{A} * C_{B}$</center></p>\n",
    "\n",
    "Donde el valor de k a 800 °C es 10 L/mol·s. La alimentación de gas contiene 25% en mol de CH4, 25% mol de N2 y 50% de vapores de azufre.\n",
    "\n",
    "- a) Calcular cual debe ser el tiempo de residencia para que haya un 60% de conversión de CH4 a CH3SH.\n",
    "- b) Si la alimentación al reactor es de 10 mol/s en total, ¿Cuál debe ser el volumen del reactor para un 60% de conversión?\n",
    "- c) ¿Cuál es el espacio velocidad medio en condiciones de operación del reactor?\n",
    "\n",
    "### <font color=\"purple\">Tabla Estequimétrica</font>\n"
   ]
  },
  {
   "cell_type": "markdown",
   "metadata": {},
   "source": [
    "| Compuesto |Nomenclatura|--------Inicial-----------|----------Cambio--------------|----------------Salida-------------------|\n",
    "|-----------|:-----------|:------------------------:|:----------------------------:|:---------------------------------------:|\n",
    "| Metano    |A           |$F_{Ao}$                  |$-F_{Ao}(X)$                  |$F_{A}=F_{Ao}(1-X)$                      |\n",
    "| Azufre    |B           |$F_{Bo}=\\Phi_{B}F_{Ao}$   |$-(\\frac{b}{a})F_{Ao}(X)$     |$F_{B}=F_{Ao}(\\Phi_{B}-\\frac{b}{a}X)$    |\n",
    "| Metanotiol|C           |$0$                       |$+(\\frac{c}{a})F_{Ao}(X)$     |$F_{C}=F_{Ao}(\\frac{c}{a}-X)$            | \n",
    "| Nitrógeno |I           |$F_{Io}=\\Phi_{I}F_{Ao}$   |$-F_{Ao}(X)$                  |$F_{I}=F_{Ao}(\\Phi_{I})$                 |"
   ]
  },
  {
   "cell_type": "markdown",
   "metadata": {},
   "source": [
    "### <font color=\"purple\">Datos conocidos</font>\n",
    "\n",
    "- Sitema en fase gaseosa\n",
    "- Reacción no reversible\n",
    "- Reactor PFR\n",
    "- Sistema isotérmico\n",
    "- Sistema isobárico\n"
   ]
  },
  {
   "cell_type": "code",
   "execution_count": 78,
   "metadata": {},
   "outputs": [
    {
     "name": "stdout",
     "output_type": "stream",
     "text": [
      "2.0\n"
     ]
    }
   ],
   "source": [
    "To = T = 800+273.15 #K\n",
    "Po = P = 1          #atm \n",
    "K  = 10             #L/mol*s\n",
    "R  = 0.082          #L*atm/mol*K\n",
    "YAo= 0.25\n",
    "YBo= 0.50\n",
    "YIo= 0.25\n",
    "\n",
    "#Cálculo de ƟB\n",
    "ƟB = YBo/YAo\n",
    "#Cálculo de ƟB\n",
    "ƟI = YIo/YAo\n",
    "print(ƟB)"
   ]
  },
  {
   "cell_type": "code",
   "execution_count": 79,
   "metadata": {},
   "outputs": [
    {
     "name": "stdout",
     "output_type": "stream",
     "text": [
      "1.0\n"
     ]
    }
   ],
   "source": [
    "print(ƟI)            #adimensional"
   ]
  },
  {
   "cell_type": "markdown",
   "metadata": {},
   "source": [
    "####  <font color=\"purple\"> - Cálculo de concentració inicial de A </font>\n",
    "$C_{Ao}= (Y_{A})*(C_{To})=(Y_{A})*\\Big(\\frac{P}{R* To}\\Big)$"
   ]
  },
  {
   "cell_type": "code",
   "execution_count": 80,
   "metadata": {},
   "outputs": [
    {
     "name": "stdout",
     "output_type": "stream",
     "text": [
      "0.002840963973167663\n"
     ]
    }
   ],
   "source": [
    "CAo = YAo*(P/(R*T))\n",
    "print(CAo)           #mol/dm^3"
   ]
  },
  {
   "cell_type": "markdown",
   "metadata": {},
   "source": [
    "####  <p><font color=\"purple\"> - Cálculo de parámetro de relación de números de moles </font></p>\n",
    "\n",
    "<p><center> $CH_{4} + S \\rightarrow CH_{3} SH$</center></p> \n",
    "<center> $a A + b B \\rightarrow c C$</center> \n",
    "\n",
    "$\\delta=\\Big(\\frac{c}{a}-\\frac{b}{a}-1\\Big)$\n",
    "\n",
    "- $ a=1 $\n",
    "- $ b=1 $\n",
    "- $ c=1 $"
   ]
  },
  {
   "cell_type": "code",
   "execution_count": 81,
   "metadata": {},
   "outputs": [
    {
     "name": "stdout",
     "output_type": "stream",
     "text": [
      "-1.0\n"
     ]
    }
   ],
   "source": [
    "a = 1\n",
    "b = 1\n",
    "c = 1\n",
    "ẟ = (c/a-b/a-a/a)\n",
    "print(ẟ)             #adimensional"
   ]
  },
  {
   "cell_type": "markdown",
   "metadata": {},
   "source": [
    "####  <p><font color=\"purple\"> - Cálculo de parámetro ε</font></p>\n",
    "$\\varepsilon = Y_{A} *\\delta$"
   ]
  },
  {
   "cell_type": "code",
   "execution_count": 82,
   "metadata": {},
   "outputs": [
    {
     "name": "stdout",
     "output_type": "stream",
     "text": [
      "-0.25\n"
     ]
    }
   ],
   "source": [
    "ε= YAo*ẟ\n",
    "print(ε)              #adimensional"
   ]
  },
  {
   "cell_type": "markdown",
   "metadata": {},
   "source": [
    "####  <p><font color=\"purple\"> - Ley de velocidad en términos de $C_{Ao}$</font></p>\n",
    "Primero se toma en cuenta que el sistema en fase gaseosa por lo tanto:\n",
    "<p>$\\upsilon=\\upsilon_{o}*(1+\\varepsilon *x)*(\\frac{P_{o}}{P})*(\\frac{T_{o}}{T})$ sí $P=P_{o},T=T_{o}$ entonces </p>\n",
    "\n",
    "<p>$\\upsilon=\\upsilon_{o}*(1+\\varepsilon *x)$</p>\n",
    "\n",
    "Siendo la ley de velocidad representada como:\n",
    "<p>$-r_{A} = k * C_{A} * C_{B}$</p>\n",
    "\n",
    "<p>$-r_{A} = k * \\Big(\\frac{F_{A}}{\\upsilon}\\Big) * \\Big(\\frac{F_{B}}{\\upsilon}\\Big) $</p>\n",
    "\n",
    "<p>$-r_{A} = k * \\Big\\{\\Big(\\frac{F_{Ao}}{\\upsilon}\\Big) * \\frac{(1-x)}{\\upsilon_{o}*(1+\\varepsilon x)}\\Big\\}* \\Big\\{\\Big(\\frac{F_{Ao}}{\\upsilon}\\Big) * \\frac{(\\Phi_{B}-\\frac{b}{a}x)}{\\upsilon_{o}*(1+\\varepsilon x)}\\Big\\} $</p>\n",
    "\n",
    "<p>$-r_{A} = k *\\Big(\\frac{C_{Ao}*(1-x)}{ (1 +\\varepsilon x)}\\Big)*\\Big(\\frac{C_{Ao}(2-x)}{(1+\\varepsilon x)}\\Big)$</p>\n",
    "\n",
    "<p><font color=\"blue\">$-r_{A} = k *\\Big({C_{Ao}\\Big)^2 *\\Big\\{\\frac{(1-x)(2-x)}{(1+\\varepsilon x)^2}}\\Big\\}$</font></p>"
   ]
  },
  {
   "cell_type": "markdown",
   "metadata": {},
   "source": [
    "<p><font color=\"purple\">- a) Calcular cual debe ser el tiempo de residencia para que haya un 60% de conversión de CH4 a CH3SH.</font></p>"
   ]
  },
  {
   "cell_type": "markdown",
   "metadata": {},
   "source": [
    "Conversión de 60%, $x = 0.60$\n",
    "\n",
    "$t = N_{Ao}\\int\\limits_0^x \\frac{dx}{(-r_{A})*(V)} = \\frac{N_{Ao}}{V}\\int\\limits_0^x \\frac{dx}{(-r_{A})}=C_{Ao}\\int\\limits_0^x \\frac{dx}{(-r_{A})*(V)}$\n",
    "\n",
    "$t = \\frac{C_{Ao}}{k*(C_{Ao})^2}\\int\\limits_0^x \\frac{(1+\\varepsilon x)^2}{(1-x)(2-x)}dx=\\frac{1}{k*C_{Ao}}\\int\\limits_0^x \\frac{(1-0.25 x)^2}{(1-x)(2-x)}$\n",
    "\n",
    "$t = \\frac{1}{k*C_{Ao}}\\int\\limits_0^x\\frac{(1-0.25 x)^2}{(1-x)(2-x)}$ cuando $x=0.60$"
   ]
  },
  {
   "cell_type": "code",
   "execution_count": 103,
   "metadata": {},
   "outputs": [],
   "source": [
    "x = symbols(\"x\")\n",
    "f=(((1+(ε*x)))**2)/((1-x)*(ƟB-x))\n",
    "t1= integrate(f,(x,0,0.6) )\n",
    "t0=0.463744800694529"
   ]
  },
  {
   "cell_type": "code",
   "execution_count": 104,
   "metadata": {},
   "outputs": [
    {
     "name": "stdout",
     "output_type": "stream",
     "text": [
      "0.463744800694529\n"
     ]
    }
   ],
   "source": [
    "print(t0)               #dentro de la integral"
   ]
  },
  {
   "cell_type": "code",
   "execution_count": 94,
   "metadata": {},
   "outputs": [
    {
     "name": "stdout",
     "output_type": "stream",
     "text": [
      "35.19932000000001\n"
     ]
    }
   ],
   "source": [
    "t_1=(1/(K*CAo))\n",
    "print(t_1)               #fuera de la integral"
   ]
  },
  {
   "cell_type": "code",
   "execution_count": 114,
   "metadata": {},
   "outputs": [
    {
     "name": "stdout",
     "output_type": "stream",
     "text": [
      "16.32350163798295\n"
     ]
    }
   ],
   "source": [
    "t=t0*t_1\n",
    "print(t)                #segundos"
   ]
  },
  {
   "cell_type": "markdown",
   "metadata": {},
   "source": [
    "<p><font color=\"blue\">-$RESPUESTA:$ El tiempo de residencia necesario en un Reactor PFR para un conversión del 60% de metano en metanotiol es de 16.33 segundos.</font></p>"
   ]
  },
  {
   "cell_type": "markdown",
   "metadata": {},
   "source": [
    "<p><font color=\"purple\">- b) Si la alimentación al reactor es de 10 mol/s en total, ¿Cuál debe ser el volumen del reactor para un 60% de conversión?</font></p>\n",
    "\n",
    "<p>$F_{To}= 10 \\frac{mol}{s}$</p>\n",
    "\n",
    "####  <p><font color=\"purple\"> - Cálculo de $F_{Ao}$ </font></p>\n",
    "$F_{Ao}= F_{To} * Y_{Ao}$\n",
    "\n"
   ]
  },
  {
   "cell_type": "code",
   "execution_count": 109,
   "metadata": {},
   "outputs": [
    {
     "name": "stdout",
     "output_type": "stream",
     "text": [
      "2.5\n"
     ]
    }
   ],
   "source": [
    "FTo= 10                  #mol/s\n",
    "FAo=FTo*YAo\n",
    "print(FAo)               #mol/s"
   ]
  },
  {
   "cell_type": "markdown",
   "metadata": {},
   "source": [
    "####  <p><font color=\"purple\"> - Cálculo de volumen a las condiciones dadas </font></p>\n",
    "\n",
    "Se sabe que tiempo de residencia se puede dar de la siguiente manera:\n",
    "<p>$V_{o}= F_{Ao} / C_{Ao}$</p>\n",
    "<p>$V= V_{o} * t$</p>"
   ]
  },
  {
   "cell_type": "code",
   "execution_count": 110,
   "metadata": {},
   "outputs": [
    {
     "name": "stdout",
     "output_type": "stream",
     "text": [
      "14364.403941897153\n"
     ]
    }
   ],
   "source": [
    "Vo=FAo/CAo                #dm^3/s\n",
    "V=Vo*t\n",
    "print(V)                  #dm^3"
   ]
  },
  {
   "cell_type": "markdown",
   "metadata": {},
   "source": [
    "<p><font color=\"blue\">-$RESPUESTA:$ El volumen necesario en un Reactor PFR para un conversión del 60% es de $14,364.40  dm^{3}$.</font></p>"
   ]
  },
  {
   "cell_type": "markdown",
   "metadata": {},
   "source": [
    "<p><font color=\"purple\">- c) ¿Cuál es el espacio velocidad medio en condiciones de operación del reactor?</font></p>\n",
    "\n",
    "Se sabe que espacio velocidad medio esta dado por:\n",
    "</p>$\\tau=\\frac{1}{t}$</p>\n"
   ]
  },
  {
   "cell_type": "code",
   "execution_count": 111,
   "metadata": {},
   "outputs": [
    {
     "name": "stdout",
     "output_type": "stream",
     "text": [
      "0.061261365494834304\n"
     ]
    }
   ],
   "source": [
    "τ=1/t\n",
    "print(τ)                  #s^-1"
   ]
  },
  {
   "cell_type": "markdown",
   "metadata": {},
   "source": [
    "<p><font color=\"blue\">-$RESPUESTA:$ En condiciones de operación del Reactor PFR es de $0.0613  s^{-1}$.</font></p>"
   ]
  }
 ],
 "metadata": {
  "kernelspec": {
   "display_name": "Python 3",
   "language": "python",
   "name": "python3"
  },
  "language_info": {
   "codemirror_mode": {
    "name": "ipython",
    "version": 3
   },
   "file_extension": ".py",
   "mimetype": "text/x-python",
   "name": "python",
   "nbconvert_exporter": "python",
   "pygments_lexer": "ipython3",
   "version": "3.7.1"
  }
 },
 "nbformat": 4,
 "nbformat_minor": 2
}
