{
 "cells": [
  {
   "cell_type": "markdown",
   "id": "5028327b",
   "metadata": {},
   "source": [
    "# Problema 3.6\n",
    "###  Determinación de Cj = h/X) para una reacción en fase gaseosa\n",
    "\"Elementos de Ingeniería de las reacciones químicas\" ,Scott Fogler capitulo 3, página 118-119\n",
    "\n",
    "![newnotebook](../imágenes/problema3.6.png)"
   ]
  },
  {
   "cell_type": "markdown",
   "id": "d05b59ef",
   "metadata": {},
   "source": [
    "Primero importaremos la librerías que nos ayudaran a resolver el problema (No olvides activar las librerías con **Shift+enter**):"
   ]
  },
  {
   "cell_type": "code",
   "execution_count": 2,
   "id": "f2dd2111",
   "metadata": {},
   "outputs": [],
   "source": [
    "import numpy\n",
    "import matplotlib.pyplot as plt\n",
    "from scipy.optimize import fsolve"
   ]
  },
  {
   "cell_type": "code",
   "execution_count": 5,
   "id": "f408b785",
   "metadata": {},
   "outputs": [
    {
     "name": "stdout",
     "output_type": "stream",
     "text": [
      "\tXeb =  0.4412597372241861\n",
      "\t\tf(Xeb) =  2.768341111902828e-12\n",
      "\tXef =  0.5083548400059049\n",
      "\t\tf(Xef) =  -2.1967760943653047e-11\n"
     ]
    }
   ],
   "source": [
    "# inciso a-b\n",
    "def equations(variables):\n",
    "    \"\"\"\n",
    "    Set of non-linear equations\n",
    "    :param variables: parameters\n",
    "    :return: set of equations\n",
    "    \"\"\"\n",
    "    Xeb, Xef = variables\n",
    "    Kc = 0.1\n",
    "    Cao = 0.07174\n",
    "    eps = 1\n",
    "    return Xeb - (Kc * (1 - Xeb) / (4 * Cao)) ** 0.5, Xef - (\n",
    "                Kc * (1 - Xef) * (1 + eps * Xef) / (4 * Cao)) ** 0.5\n",
    "\n",
    "\n",
    "K_c = 0.1\n",
    "C_A0 = 0.07174\n",
    "epsilon = 1\n",
    "initialGuess = numpy.array([0.5, 0.5])\n",
    "\n",
    "X_eb, X_ef = fsolve(equations, initialGuess)\n",
    "\n",
    "print('\\tXeb = ', X_eb)\n",
    "print('\\t\\tf(Xeb) = ', X_eb - (K_c * (1 - X_eb) / (4 * C_A0)) ** 0.5)\n",
    "print('\\tXef = ', X_ef)\n",
    "print('\\t\\tf(Xef) = ',\n",
    "      X_ef - (K_c * (1 - X_ef) * (1 + epsilon * X_ef) / (4 * C_A0)) ** 0.5)"
   ]
  },
  {
   "cell_type": "code",
   "execution_count": 6,
   "id": "55cfaefa",
   "metadata": {},
   "outputs": [
    {
     "data": {
      "image/png": "[encoded data removed]",
      "text/plain": [
       "<Figure size 432x288 with 1 Axes>"
      ]
     },
     "metadata": {
      "needs_background": "light"
     },
     "output_type": "display_data"
    }
   ],
   "source": [
    "# Inciso c\n",
    "X = numpy.arange(0.0, 0.5, 0.01)\n",
    "rA = 0.0036 * ((1 - X)/(1 + X) - ((2.88*X**2)/((1 + X)**2)))\n",
    "\n",
    "fig = plt.figure()\n",
    "ax = fig.add_subplot(111)\n",
    "ax.minorticks_on()\n",
    "ax.plot(X, 1/rA, 'black', linewidth=1)\n",
    "ax.vlines(x=0.5, ymin=-11000, ymax=15000, color='red')\n",
    "ax.set_xlabel('Conversion, X')\n",
    "ax.set_ylabel('$-r_A \\\\ \\\\left( \\\\frac{dm^3 \\\\times min}{gmol} \\\\right)$')\n",
    "ax.grid(which='BOTH', ls=':')\n",
    "ax.grid(True)\n",
    "ax.set_ylim(bottom=0, top=10000)\n",
    "plt.show()"
   ]
  },
  {
   "cell_type": "code",
   "execution_count": 7,
   "id": "c797fd0e",
   "metadata": {},
   "outputs": [
    {
     "name": "stdout",
     "output_type": "stream",
     "text": [
      "\n",
      "\tV_CSTR =  1722.93  dm3\n"
     ]
    }
   ],
   "source": [
    "# Inciso d\n",
    "X = 0.4\n",
    "rA = 0.0036 * ((1 - X)/(1 + X) - ((2.88*X**2)/((1 + X)**2)))\n",
    "Fao = 3  # gmol/min\n",
    "V_CSTR = round(Fao*X/rA, 2)\n",
    "print('\\n\\tV_CSTR = ', V_CSTR, ' dm3')"
   ]
  },
  {
   "cell_type": "code",
   "execution_count": null,
   "id": "34ce989b",
   "metadata": {},
   "outputs": [],
   "source": []
  }
 ],
 "metadata": {
  "kernelspec": {
   "display_name": "Python 3 (ipykernel)",
   "language": "python",
   "name": "python3"
  },
  "language_info": {
   "codemirror_mode": {
    "name": "ipython",
    "version": 3
   },
   "file_extension": ".py",
   "mimetype": "text/x-python",
   "name": "python",
   "nbconvert_exporter": "python",
   "pygments_lexer": "ipython3",
   "version": "3.9.7"
  }
 },
 "nbformat": 4,
 "nbformat_minor": 5
}
