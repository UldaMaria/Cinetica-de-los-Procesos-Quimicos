{
 "cells": [
  {
   "cell_type": "markdown",
   "id": "601a766e",
   "metadata": {},
   "source": [
    "# Problema 3.4 \n",
    "###  Manipulación de la ecuación para Cj = hlX)\n",
    "\"Elementos de Ingeniería de las reacciones químicas\" ,Scott Fogler capitulo 3, página 114\n",
    "\n",
    "![newnotebook](../imágenes/problema3.4.png)"
   ]
  },
  {
   "cell_type": "markdown",
   "id": "ea20f5b5",
   "metadata": {},
   "source": [
    "Primero importaremos la librerías que nos ayudaran a resolver el problema (No olvides activar las librerías con **Shift+enter**):"
   ]
  },
  {
   "cell_type": "code",
   "execution_count": 2,
   "id": "3b16543d",
   "metadata": {},
   "outputs": [],
   "source": [
    "import sympy"
   ]
  },
  {
   "cell_type": "code",
   "execution_count": 6,
   "id": "c1dba16d",
   "metadata": {},
   "outputs": [
    {
     "name": "stdout",
     "output_type": "stream",
     "text": [
      "          ⎛  X⋅b         ⎞\n",
      "F_A0⋅P⋅T₀⋅⎜- ─── + thetaB⎟\n",
      "          ⎝   a          ⎠\n",
      "──────────────────────────\n",
      "    P₀⋅T⋅v₀⋅(X⋅ε + 1)     \n"
     ]
    }
   ],
   "source": [
    "a = sympy.var('a')\n",
    "b = sympy.var('b')\n",
    "C_A = sympy.var('C_A')\n",
    "C_A0 = sympy.var('C_A0')\n",
    "C_B = sympy.var('C_B')\n",
    "epsilon = sympy.var('epsilon')\n",
    "F_A0 = sympy.var('F_A0')\n",
    "F_B = sympy.var('F_B')\n",
    "P = sympy.var('P')\n",
    "P_0 = sympy.var('P_0')\n",
    "T = sympy.var('T')\n",
    "T_0 = sympy.var('T_0')\n",
    "thetaB = sympy.var('thetaB')\n",
    "v = sympy.var('v')\n",
    "v_0 = sympy.var('v_0')\n",
    "X = sympy.var('X')\n",
    "C_B = F_B / v\n",
    "F_B = F_A0 * (thetaB - (b/a)*X)\n",
    "v = v_0 * (1 + epsilon*X) * (P_0 / P) * (T / T_0)\n",
    "C_A0 = F_A0 / v_0\n",
    "C_B = F_A0 * (thetaB - (b/a)*X) / v\n",
    "\n",
    "sympy.pprint(C_B)"
   ]
  },
  {
   "cell_type": "code",
   "execution_count": null,
   "id": "4fbea909",
   "metadata": {},
   "outputs": [],
   "source": []
  }
 ],
 "metadata": {
  "kernelspec": {
   "display_name": "Python 3 (ipykernel)",
   "language": "python",
   "name": "python3"
  },
  "language_info": {
   "codemirror_mode": {
    "name": "ipython",
    "version": 3
   },
   "file_extension": ".py",
   "mimetype": "text/x-python",
   "name": "python",
   "nbconvert_exporter": "python",
   "pygments_lexer": "ipython3",
   "version": "3.9.7"
  }
 },
 "nbformat": 4,
 "nbformat_minor": 5
}
