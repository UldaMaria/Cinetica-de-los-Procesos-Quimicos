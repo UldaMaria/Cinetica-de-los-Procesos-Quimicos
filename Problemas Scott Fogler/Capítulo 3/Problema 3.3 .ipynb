{
 "cells": [
  {
   "cell_type": "markdown",
   "id": "96b471e1",
   "metadata": {},
   "source": [
    "# Problema 3.3 \n",
    "###  ¿Cuál es el reactivo limitante?\n",
    "\"Elementos de Ingeniería de las reacciones químicas\" ,Scott Fogler capitulo 3, página 105\n",
    "\n",
    "![newnotebook](../imágenes/problema3.3.png)\n"
   ]
  },
  {
   "cell_type": "markdown",
   "id": "5ed1558a",
   "metadata": {},
   "source": [
    "Primero importaremos la librerías que nos ayudaran a resolver el problema (No olvides activar las librerías con **Shift+enter**):"
   ]
  },
  {
   "cell_type": "code",
   "execution_count": 1,
   "id": "3aad2226",
   "metadata": {},
   "outputs": [],
   "source": [
    "import numpy"
   ]
  },
  {
   "cell_type": "code",
   "execution_count": 2,
   "id": "53edb89b",
   "metadata": {},
   "outputs": [
    {
     "name": "stdout",
     "output_type": "stream",
     "text": [
      "Al 20% conversión de NaOH:\n",
      "\tC_D =  0.67  gmol/dm3\n",
      "\tC_B =  1.33  gmol/dm3\n",
      "Al 90% conversión de NaOH:\n",
      "\tC_D =  3.0  gmol/dm3\n",
      "\tC_B =  -1.0  gmol/dm3\n"
     ]
    }
   ],
   "source": [
    "C_A0 = 10  # gmol/dm3\n",
    "C_B0 = 2  # gmol/dm3\n",
    "thetaB = C_B0 / C_A0\n",
    "conversión = numpy.array([20, 90]) / 100.0\n",
    "C_D = C_A0 * conversión / 3\n",
    "C_B = C_A0 * (thetaB - conversión/ 3)\n",
    "print('Al 20% conversión de NaOH:')\n",
    "print('\\tC_D = ', round(C_D[0], 2), ' gmol/dm3')\n",
    "print('\\tC_B = ', round(C_B[0], 2), ' gmol/dm3')\n",
    "print('Al 90% conversión de NaOH:')\n",
    "print('\\tC_D = ', round(C_D[1], 2), ' gmol/dm3')\n",
    "print('\\tC_B = ', round(C_B[1], 2), ' gmol/dm3')"
   ]
  },
  {
   "cell_type": "code",
   "execution_count": null,
   "id": "f35ca2ff",
   "metadata": {},
   "outputs": [],
   "source": []
  }
 ],
 "metadata": {
  "kernelspec": {
   "display_name": "Python 3 (ipykernel)",
   "language": "python",
   "name": "python3"
  },
  "language_info": {
   "codemirror_mode": {
    "name": "ipython",
    "version": 3
   },
   "file_extension": ".py",
   "mimetype": "text/x-python",
   "name": "python",
   "nbconvert_exporter": "python",
   "pygments_lexer": "ipython3",
   "version": "3.9.7"
  }
 },
 "nbformat": 4,
 "nbformat_minor": 5
}
