{
 "cells": [
  {
   "cell_type": "markdown",
   "id": "0f2fdc0d",
   "metadata": {},
   "source": [
    "# Problema 3.2 \n",
    "### Expresar Cj =hiX) para una reacción en fase líquida\n",
    "\n",
    "\"Elementos de Ingeniería de las reacciones químicas\" ,Scott Fogler capitulo 3, página 104\n",
    "\n",
    "![newnotebook](../imágenes/problema3.2.png)\n"
   ]
  },
  {
   "cell_type": "code",
   "execution_count": 3,
   "id": "28060fdc",
   "metadata": {},
   "outputs": [],
   "source": [
    "reacción = {'A': ('NaOH', '-1'), 'B': ('(C₁₇H₃₅COO)₃C₃H₅', '-⅓'),\n",
    "            'C': ('C₁₇H₃₅COONa', '+1'), 'D': ('C₃H₅(OH)₃', '+⅓'),\n",
    "            'I': ('H₂O', '+0')}\n",
    "símbolos = tuple(reacción.keys())\n",
    "inicial = ['N_' + símbolos[i] + '0' for i in range(len(símbolos))]\n",
    "inicial[-1] = 'N_I0'\n",
    "inicialNA = 'N_A0'\n",
    "símbolos_y_coeficientes = tuple(reacción.values())\n",
    "especies = [símbolos_y_coeficientes[i][0] for i in range(len(símbolos))]\n",
    "coeficientes = [símbolos_y_coeficientes[i][1] for i in range(len(símbolos))]\n",
    "cambio = [coeficientes[i] + ' ' + inicialNA + ' X' for i in range(len(coeficientes))]\n",
    "cambio[-1] = '-'\n",
    "remanente = [inicialNA + '(Θ_' + símbolos[i] + coeficientes[i] + 'X)' for i in range(len(símbolos))]\n",
    "remanente[-1] = 'N_I0'\n",
    "inicialCA = 'C_A0'\n",
    "concentración = [inicialCA + '(Θ_' + símbolos[i] + coeficientes[i] + 'X)' for i in range(len(símbolos))]\n",
    "concentración[-1] = 'C_I0'"
   ]
  },
  {
   "cell_type": "code",
   "execution_count": 6,
   "id": "fabccf08",
   "metadata": {},
   "outputs": [
    {
     "name": "stdout",
     "output_type": "stream",
     "text": [
      "_________________________________________________________________________________________________________________________\n",
      "                       TABLA ESTEQUIOMÉTRICA PARA LA REACCIÓN DE OBTENCIÓN DE JABÓN EN FASE LIQUIDA                      \n",
      "_________________________________________________________________________________________________________________________\n",
      " epecies             símbolos            inicial             cambio              remanente           concentración       \n",
      "_________________________________________________________________________________________________________________________\n",
      " NaOH                A                   N_A0                -1 N_A0 X           N_A0(Θ_A-1X)        C_A0(Θ_A-1X)        \n",
      " (C₁₇H₃₅COO)₃C₃H₅    B                   N_B0                -⅓ N_A0 X           N_A0(Θ_B-⅓X)        C_A0(Θ_B-⅓X)        \n",
      " C₁₇H₃₅COONa         C                   N_C0                +1 N_A0 X           N_A0(Θ_C+1X)        C_A0(Θ_C+1X)        \n",
      " C₃H₅(OH)₃           D                   N_D0                +⅓ N_A0 X           N_A0(Θ_D+⅓X)        C_A0(Θ_D+⅓X)        \n",
      " H₂O                 I                   N_I0                -                   N_I0                C_I0                \n",
      "¯¯¯¯¯¯¯¯¯¯¯¯¯¯¯¯¯¯¯¯¯¯¯¯¯¯¯¯¯¯¯¯¯¯¯¯¯¯¯¯¯¯¯¯¯¯¯¯¯¯¯¯¯¯¯¯¯¯¯¯¯¯¯¯¯¯¯¯¯¯¯¯¯¯¯¯¯¯¯¯¯¯¯¯¯¯¯¯¯¯¯¯¯¯¯¯¯¯¯¯¯¯¯¯¯¯¯¯¯¯¯¯¯¯¯¯¯¯¯¯¯\n"
     ]
    }
   ],
   "source": [
    "# tabla estequiométrica\n",
    "print(\"_\" * 121)\n",
    "print('TABLA ESTEQUIOMÉTRICA PARA LA REACCIÓN DE OBTENCIÓN DE JABÓN EN FASE LIQUIDA'.center(121))\n",
    "print(\"_\" * 121)\n",
    "print(\" {:19} {:19} {:19} {:19} {:19} {:19} \".format(\"epecies\", \"símbolos\", \"inicial\", \"cambio\", \"remanente\", \"concentración\"))\n",
    "print(\"_\" * 121)\n",
    "for i in range(len(especies)):\n",
    "    print(\" {:19} {:19} {:19} {:19} {:19} {:19} \".format(especies[i], símbolos[i], inicial[i], cambio[i], remanente[i], concentración[i]))\n",
    "print(\"¯\" * 121)"
   ]
  },
  {
   "cell_type": "code",
   "execution_count": null,
   "id": "d3fdb778",
   "metadata": {},
   "outputs": [],
   "source": []
  }
 ],
 "metadata": {
  "kernelspec": {
   "display_name": "Python 3 (ipykernel)",
   "language": "python",
   "name": "python3"
  },
  "language_info": {
   "codemirror_mode": {
    "name": "ipython",
    "version": 3
   },
   "file_extension": ".py",
   "mimetype": "text/x-python",
   "name": "python",
   "nbconvert_exporter": "python",
   "pygments_lexer": "ipython3",
   "version": "3.9.7"
  }
 },
 "nbformat": 4,
 "nbformat_minor": 5
}
