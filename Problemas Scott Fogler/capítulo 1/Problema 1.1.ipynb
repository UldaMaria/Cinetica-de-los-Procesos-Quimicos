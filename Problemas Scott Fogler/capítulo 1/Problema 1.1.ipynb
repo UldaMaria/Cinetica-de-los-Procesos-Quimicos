{
 "cells": [
  {
   "cell_type": "markdown",
   "id": "6f42dded",
   "metadata": {},
   "source": [
    "# Problema 1.1 \n",
    "\n",
    "**\"Elementos de Ingeniería de las reacciones químicas\"** ,Scott Fogler capitulo 1, página 21\n",
    "\n",
    "![newnotebook](../imágenes/problema1 cap1.png)"
   ]
  },
  {
   "cell_type": "code",
   "execution_count": 1,
   "id": "1c01fe8b",
   "metadata": {},
   "outputs": [],
   "source": [
    "import numpy"
   ]
  },
  {
   "cell_type": "code",
   "execution_count": 4,
   "id": "563ca485",
   "metadata": {},
   "outputs": [
    {
     "name": "stdout",
     "output_type": "stream",
     "text": [
      "V =  100.1124  dm3\n",
      "V =  0.10011239999999999  m3\n"
     ]
    }
   ],
   "source": [
    "vo=10\n",
    "k=0.23\n",
    "V = round((vo/k) * numpy.log(1 / 0.1), 4)\n",
    "print('V = ', V, ' dm3')\n",
    "print('V = ', V / 1000, ' m3')"
   ]
  },
  {
   "cell_type": "code",
   "execution_count": null,
   "id": "762e22a2",
   "metadata": {},
   "outputs": [],
   "source": []
  }
 ],
 "metadata": {
  "kernelspec": {
   "display_name": "Python 3 (ipykernel)",
   "language": "python",
   "name": "python3"
  },
  "language_info": {
   "codemirror_mode": {
    "name": "ipython",
    "version": 3
   },
   "file_extension": ".py",
   "mimetype": "text/x-python",
   "name": "python",
   "nbconvert_exporter": "python",
   "pygments_lexer": "ipython3",
   "version": "3.9.7"
  }
 },
 "nbformat": 4,
 "nbformat_minor": 5
}
