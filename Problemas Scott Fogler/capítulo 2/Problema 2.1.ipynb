{
 "cells": [
  {
   "cell_type": "markdown",
   "id": "aa6e8df0",
   "metadata": {},
   "source": [
    "# Problema 2.1\n",
    "\n",
    "\"Elementos de Ingeniería de las reacciones químicas\" ,Scott Fogler capitulo 1, página 21\n",
    "\n",
    "![newnotebook](../imágenes/problema2.1.png)"
   ]
  },
  {
   "cell_type": "code",
   "execution_count": 16,
   "id": "4db2ddef",
   "metadata": {},
   "outputs": [],
   "source": [
    "# definición de la función\n",
    "def Cao(yAo, Po, To, R=8.314):\n",
    "    \"\"\"\n",
    "    Concentration for a ideal gas\n",
    "    :param yAo: compisición de gas\n",
    "    :param Po: presión inicial\n",
    "    :param To: temperatura inicial\n",
    "    :param R: constante universal de los gases, dm3*kPa / (gmol*K)\n",
    "    :return: concentración\n",
    "    \"\"\"\n",
    "    return yAo*Po / (R*To)"
   ]
  },
  {
   "cell_type": "code",
   "execution_count": 17,
   "id": "f6e0a7dd",
   "metadata": {},
   "outputs": [
    {
     "name": "stdout",
     "output_type": "stream",
     "text": [
      "C_A0 = 0.1997 gmol/dm3\n",
      "F_A0 = 0.3993 mol/s\n"
     ]
    }
   ],
   "source": [
    "Po = 830  # kPa == 8.2 atm\n",
    "yAo = 1.0  # A puro\n",
    "To = 500  # K, temperatura inicial\n",
    "C_A0 = Cao(yAo=yAo, Po=Po, To=To)\n",
    "print('C_A0 =', round(C_A0, 4), 'gmol/dm3')\n",
    "F_A0 = C_A0 * 2\n",
    "print('F_A0 =', round(F_A0, 4), 'mol/s')"
   ]
  },
  {
   "cell_type": "code",
   "execution_count": null,
   "id": "714ebde8",
   "metadata": {},
   "outputs": [],
   "source": []
  }
 ],
 "metadata": {
  "kernelspec": {
   "display_name": "Python 3 (ipykernel)",
   "language": "python",
   "name": "python3"
  },
  "language_info": {
   "codemirror_mode": {
    "name": "ipython",
    "version": 3
   },
   "file_extension": ".py",
   "mimetype": "text/x-python",
   "name": "python",
   "nbconvert_exporter": "python",
   "pygments_lexer": "ipython3",
   "version": "3.9.7"
  }
 },
 "nbformat": 4,
 "nbformat_minor": 5
}
