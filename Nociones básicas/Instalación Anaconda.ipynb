{
 "cells": [
  {
   "cell_type": "markdown",
   "id": "ba809b93",
   "metadata": {},
   "source": [
    "# 1. INSTALACIÓN\n",
    "\n",
    "## <font color=\"blue\">Instalación de Anaconda</font>\n",
    "\n",
    "La siguiente serie de pasos te permitirá instalar de forma correcta el Software libre de Anaconda, en donde encontraremos los cuadernos electrónicos de Jupyter.\n",
    "\n",
    "1. Accede a tu navegador de internet\n",
    "2. Realiza la búsqueda de **<font color=\"green\">anaconda python/r distribution - free  download</font>** o accede al siguiente link : https://www.anaconda.com/products/individual\n",
    "\n",
    "![newnotebook](./Imágenes/Anaconda Install 1.png)\n",
    "   \n",
    "3. Para conocer o acceder a  las especificaciones de tu computadora ingresa a **\"sistema\"** y en **\"acerca de\"** observarás si tu computadora es de 64 o 32 bits\n",
    "\n",
    "![newnotebook](./Imágenes/ANACONDA2.png)\n",
    "\n",
    "\n",
    "4. Pulsa el botón de **<font color=\"red\">\"descarga\"</font>**. Selecciona el lugar en donde se alojará la aplicación.\n",
    "5. Una vez se haya completado la descarga, se desplegará un panel como el siguiente\n",
    "\n",
    "![newnotebook](./Imágenes/Anaconda 3.png)\n",
    "\n",
    "6. Pulsa en **<font color=\"red\">\"siguiente\"</font>**.\n",
    "7. Pulsa en **<font color=\"red\">\"De acuerdo\"</font>**.\n",
    "\n",
    "![newnotebook](./Imágenes/ANACONDA4.png)\n",
    "\n",
    "8. Selecciona **<font color=\"red\">\"Solo yo\"</font>**, luego pulsa en **<font color=\"red\">\"siguiente\"</font>**.\n",
    "\n",
    "![newnotebook](./Imágenes/Anaconda 5.png)\n",
    "\n",
    "9. Selecciona el lugar en donde alojarás la aplicación en tu computadora.\n",
    "10. Pulsa en  **<font color=\"red\">\"Instalar\"</font>**\n",
    "11. Una vez completado pulsa en **<font color=\"red\">\"siguiente\"</font>**.\n",
    "12. Pulsa en **<font color=\"red\">\"Finalizar\"</font>**.\n",
    "13. Para comprobar que la instalación haya sido correcta, ve al inicio de tu computadora y busca **<font color=\"red\">\"Anaconda Navigator\"</font>**.\n",
    "14. Una vez abierto Anaconda Navigator, podrás ver en la pestaña de **Home** todas las aplicaciones disponibles que nos ofrece Anaconda, el entorno se verá de la siguiente forma\n",
    "\n",
    "![newnotebook](./Imágenes/Anaconda 6.png)\n",
    "\n",
    "\n"
   ]
  },
  {
   "cell_type": "code",
   "execution_count": null,
   "id": "f6f13699",
   "metadata": {},
   "outputs": [],
   "source": []
  },
  {
   "cell_type": "code",
   "execution_count": null,
   "id": "0dcc9374",
   "metadata": {},
   "outputs": [],
   "source": []
  }
 ],
 "metadata": {
  "kernelspec": {
   "display_name": "Python 3 (ipykernel)",
   "language": "python",
   "name": "python3"
  },
  "language_info": {
   "codemirror_mode": {
    "name": "ipython",
    "version": 3
   },
   "file_extension": ".py",
   "mimetype": "text/x-python",
   "name": "python",
   "nbconvert_exporter": "python",
   "pygments_lexer": "ipython3",
   "version": "3.9.7"
  }
 },
 "nbformat": 4,
 "nbformat_minor": 5
}
