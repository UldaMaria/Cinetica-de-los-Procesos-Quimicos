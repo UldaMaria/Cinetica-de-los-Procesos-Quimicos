{
 "cells": [
  {
   "cell_type": "markdown",
   "metadata": {},
   "source": [
    "# 2. Algunas nociones básicas\n",
    "\n",
    "## Qué es Jupyter Notebook?\n",
    "\n",
    "Jupyter Notebook es una aplicación cliente-servidor lanzada en 2015 por la organización sin ánimo de lucro Proyecto Jupyter. Esta aplicación permite compartir documentos web en formato JSON el cual sigue un esquema versionado en donde se crea un historial de los cambios realizados a los archivos y una lista ordenada de celdas de entrada y de salida. Estas celdas albergan, entre otras cosas, código, texto (en formato Markdown), fórmulas matemáticas y ecuaciones, o también contenido multimedia (Rich Media). El programa se ejecuta desde la aplicación web cliente que funciona en cualquier navegador estándar. El requisito previo es instalar y ejecutar en el sistema el servidor Jupyter Notebook. Los documentos creados en Jupyter pueden exportarse, entre otros formatos, a HTML, PDF, Markdown o Python y también pueden compartirse con otros usuarios por correo electrónico, utilizando Dropbox o GitHub o mediante el visor integrado de Jupyter Notebook.\n",
    "\n",
    "## Cómo lo integraremos en el curso?\n",
    "\n",
    "En el curso de Cinética de los procesos Químicos,utilizaremos esta herramienta para resolver problemas relacionados con los objetivos del curso. No aprenderemos todo sobre programación, modelado matemático o sobre todo tipo de problemas de ingeniería, sin embargo, al utilizar esta herramienta serás capaz de pensar de una forma computacional para poder pasar de un problema a código y así poder aumentar nuestras habilidades analíticas.\n",
    "\n",
    "\n"
   ]
  },
  {
   "cell_type": "markdown",
   "metadata": {},
   "source": [
    "\n",
    "## Markdown\n",
    "\n",
    "Es un lenguaje de etiquetas diseñado para poder ser leído por humanos\n",
    "\n",
    "Da doble click en esta celda para que puedas ver cómo lograr el siguiente output:\n",
    "\n",
    "1. Crear\n",
    "2. Una \n",
    "3. Lista \n",
    "4. Numerada\n",
    "5. Nuevo elemento\n",
    "\n",
    "Otro tipo de lista:\n",
    "\n",
    "- Con\n",
    "- Puntitos\n",
    "    - Con indexación\n",
    "        - A diferentes\n",
    "        - Niveles\n",
    "-Nuevo elemento\n",
    "    - elemento dentro de la lista principal\n",
    "    \n",
    "### <font color=\"blue\">Formato:</font>\n",
    "    \n",
    "Se puede agregar texto en **negritas**, *itálicas*, <del>tachado</del>, incluso <font color=\"red\">rojo</font>\n",
    "\n",
    "Para crear títulos simplemente añade un $#$, con uno solo crearás un título principal, si añdaes más será un subtítulo y asi sucesivamente, ejemplo:\n",
    "\n",
    "# Título\n",
    "## Sub título\n",
    "### Sub-sub título\n",
    "\n",
    "### <font color=\"blue\">Operaciones básicas:</font>\n",
    "\n",
    "- Esto es una fracción $\\frac{1}{4}$\n",
    "-  raíz cuadrada $\\sqrt{564}$\n",
    "- suma $\\sum_{i=1}^{10} t_i$\n",
    "- fórmula química H$_2$O\n",
    "- una integral $\\int_a^b f(x)dx$\n",
    "\n",
    "Nota: para ver más opciones puedes acceder al siguiente link para revisar toda la documentación https://jupyter-notebook.readthedocs.io/en/stable/examples/Notebook/Working%20With%20Markdown%20Cells.html.\n",
    "\n",
    "No es necesario que aprendamos esto ahora. Pero puedes revisarlo como fuente externa de manera que puedas consultarlo en cualquier momento.\n",
    "\n",
    "\n",
    "\n",
    "\n",
    "Puedes convertir una celda a tipo markdown presionando Esc+m y regresar a tipo code con Esc+y\n"
   ]
  },
  {
   "cell_type": "code",
   "execution_count": 2,
   "metadata": {},
   "outputs": [
    {
     "name": "stdout",
     "output_type": "stream",
     "text": [
      ".\n"
     ]
    }
   ],
   "source": [
    "# las celdas de código se ejecutan con Ctrl+Enter\n",
    "# para ejecutar y pasar a la siguiente celda Shift + Enter\n",
    "print(\".\") "
   ]
  },
  {
   "cell_type": "markdown",
   "metadata": {},
   "source": [
    "## Ejecutando Código\n",
    "\n",
    "Los cuadernos de jupyter nos sirven para dos cosas:\n",
    "\n",
    "1. Documentar nuestro trabajo\n",
    "2. Ejecutar código de Python\n",
    "\n",
    "Es importante saber cómo funcionan estos cuadernos de jupyter, en primera instancia podemos observar que se muestran en el navegador, el código no es ejecutado aquí sino que se envía a un servidor que en nuestro caso es nuestra propia computadora, una vez que termina la ejecución los resultados están de vuelta en el navegador. "
   ]
  }
 ],
 "metadata": {
  "kernelspec": {
   "display_name": "Python 3 (ipykernel)",
   "language": "python",
   "name": "python3"
  },
  "language_info": {
   "codemirror_mode": {
    "name": "ipython",
    "version": 3
   },
   "file_extension": ".py",
   "mimetype": "text/x-python",
   "name": "python",
   "nbconvert_exporter": "python",
   "pygments_lexer": "ipython3",
   "version": "3.9.7"
  }
 },
 "nbformat": 4,
 "nbformat_minor": 1
}
