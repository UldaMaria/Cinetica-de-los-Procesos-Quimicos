{
 "cells": [
  {
   "cell_type": "markdown",
   "metadata": {},
   "source": [
    "# 4.Ecuaciones ODE usando la función `odeint`\n",
    "\n",
    "Primero, importaremos algunas librerías que necesitaremos más adelante y nombraremos las funciones como se muestra a continuación:"
   ]
  },
  {
   "cell_type": "code",
   "execution_count": 1,
   "metadata": {},
   "outputs": [],
   "source": [
    "%matplotlib inline\n",
    "import matplotlib.pyplot as plt\n",
    "import numpy as np\n",
    "from scipy.integrate import odeint"
   ]
  },
  {
   "cell_type": "markdown",
   "metadata": {},
   "source": [
    "La función `odeint`, la podemos encontrar en `integrate` submodulo del paquete de `scipy`, esta nos ayudará a trabajar ecuaciones diferenciales de la siguiente forma:\n",
    "$$\n",
    "\\newcommand{\\yy}{\\mathbf{y}}\n",
    "\\newcommand{\\ff}{\\mathbf{f}}\n",
    "\\frac{\\mathrm{d} \\yy}{\\mathrm{d}t} = \\ff(\\yy, t),\n",
    "$$Donde $\\yy$ es un vector en $\\mathbb{R}^n$, \n",
    "$$\n",
    "\\dot{\\yy} =  \\ff(\\yy, t).\n",
    "$$\n",
    "Es decir, proporcionará una solución numérica de acuerdo al valor inicial dado para la ecuación diferencial, junto con una condición inicial\n",
    "$$\n",
    "\\yy(t = t_0) = \\yy_0,\n",
    "$$\n",
    "devolviendo la curva solución (o trayectoria) $\\yy(t)$ en función del tiempo $t$, dentro de un cierto rango (finito!) de valores de $t$.\n",
    "\n",
    "Ecribiendo $\\yy = (y_1, \\ldots, y_n)$, tendremos un sistema con la siguiente forma\n",
    "\\begin{align}\n",
    "\\dot{y_1} &= f_1(y_1, \\ldots, y_n, t) \\\\\n",
    "\\dot{y_2} &= f_2(y_1, \\ldots, y_n, t) \\\\\n",
    "&\\ldots \\\\\n",
    "\\dot{y_n} &= f_n(y_1, \\ldots, y_n, t)\n",
    "\\end{align}\n",
    "\n",
    "Hay que tener en cuenta que cualquier sistema de ecuaciónes diferenciales ordinarias pueden escribirse de esta forma, es decir, definiendo nuevas variables para representar derivadas de orden superior,  \n",
    "icnorporandolas al vector $\\yy$ de variables.\n",
    "\n",
    "Para usar `odeint`, debemos definir  la función de Python `f` que implementa la función matemática $\\ff$. Se toma un vector `y` y un tiempo `t`,\n",
    "y esta devuelve el nuevo vector `f(y,t)`."
   ]
  },
  {
   "cell_type": "markdown",
   "metadata": {},
   "source": [
    "## 1D ecuaciones"
   ]
  },
  {
   "cell_type": "markdown",
   "metadata": {},
   "source": [
    "El caso más simple es cuando la dimensión es $n=1$. Por ejemplo, podríamos resolver la EDO\n",
    "$\n",
    "\\dot{y} = ay,\n",
    "$\n",
    "cuya solución exacta es, por supuesto, $y(t) = y_0 \\exp(a t)$."
   ]
  },
  {
   "cell_type": "code",
   "execution_count": 2,
   "metadata": {},
   "outputs": [
    {
     "data": {
      "image/png": "[encoded data removed]",
      "text/plain": [
       "<Figure size 432x288 with 1 Axes>"
      ]
     },
     "metadata": {
      "needs_background": "light"
     },
     "output_type": "display_data"
    }
   ],
   "source": [
    "a = 2.0\n",
    "def f(y, t):\n",
    "    return a*y\n",
    "times = np.linspace(0,6)\n",
    "y0 = 1.0\n",
    "y_output = odeint(f, y0, times)\n",
    "y_exact = y0*np.exp(a*times)\n",
    "plt.plot(times, y_output, 'r.', label='integrado')\n",
    "plt.plot(times, y_exact, label='analítico')\n",
    "plt.legend()\n",
    "plt.show()\n"
   ]
  },
  {
   "cell_type": "markdown",
   "metadata": {},
   "source": [
    "# Ejemplo, Cálculo de la conversión X en un reactor con caída de presión\n",
    "\n",
    "En este caso tenemos dos variables que integrar (la conversión $X$ y la presión $y$), por lo que nuestra función debe aceptar y devolver un vector. Integraremos en relación al peso del catalizador $W$, y no de acuerdo a la variable tiempo $t$.\n",
    "Por Consiguiente las ecuaciones diferenciales se verán así:\n",
    "\n",
    "$$\\frac{\\mathrm{d} X}{\\mathrm{d} W} = \\frac{-r_A'}{F_{A0}}$$\n",
    "$$\\frac{\\mathrm{d} y}{\\mathrm{d} W} = -\\alpha \\frac{(1+\\epsilon X)}{2y}$$\n"
   ]
  },
  {
   "cell_type": "markdown",
   "metadata": {},
   "source": [
    "### Datos del problema:\n",
    "\n",
    "\n",
    "| Datos dados        | Valor     | \n",
    "|--------------------|-----------|\n",
    "| **epsilon**        | -0.15     | \n",
    "| **K1**             |  0.0266   | \n",
    "| **Fa0**            |  1.08     | \n",
    "| **alpha**          |  0.0166   |"
   ]
  },
  {
   "cell_type": "code",
   "execution_count": 3,
   "metadata": {},
   "outputs": [],
   "source": [
    "def dYvecdV(Yvec,W):\n",
    "    X, y = Yvec # valores del vector Y en tres variables\n",
    "    # Datos del problema (ecuaciones explícitas)\n",
    "    epsilon = -0.15\n",
    "    kprime = 0.0266\n",
    "    Fa0 = 1.08\n",
    "    alpha = 0.0166\n",
    "    raprime = -1*kprime*(1-X)/(1+epsilon*X) * y\n",
    "    f = (1+epsilon*X)/y # razón de v / v0\n",
    "    # ecuaciones diferenciales\n",
    "    dXdW = -raprime / Fa0\n",
    "    dydW = -1*alpha * (1 + epsilon * X)/ (2*y) \n",
    "    return [dXdW, dydW]  # tres ecuaciones diferenciales en el vector dYvecdV "
   ]
  },
  {
   "cell_type": "markdown",
   "metadata": {},
   "source": [
    "Etableceremos aquello que se desea integrar. En este caso es Peso no Tiempo"
   ]
  },
  {
   "cell_type": "code",
   "execution_count": 4,
   "metadata": {},
   "outputs": [],
   "source": [
    "W_output = np.linspace(0, 27., num=50) #Rango para el peso de catalizador dentro reactor"
   ]
  },
  {
   "cell_type": "markdown",
   "metadata": {},
   "source": [
    "Establecer las condiciones iniciales, como vector de dos variables"
   ]
  },
  {
   "cell_type": "code",
   "execution_count": 5,
   "metadata": {},
   "outputs": [],
   "source": [
    "Y0 = [0., 1.] # valore iniciales para las variables independientes X (conversión) y y (presión)"
   ]
  },
  {
   "cell_type": "markdown",
   "metadata": {},
   "source": [
    "Realizar la integración y obtener los resultados."
   ]
  },
  {
   "cell_type": "code",
   "execution_count": 6,
   "metadata": {},
   "outputs": [
    {
     "name": "stdout",
     "output_type": "stream",
     "text": [
      "[[0.         1.        ]\n",
      " [0.01346265 0.99542067]\n",
      " [0.02670978 0.99082943]\n",
      " [0.03974456 0.98622596]\n",
      " [0.05257003 0.98160993]\n",
      " [0.06518924 0.97698103]\n",
      " [0.07760519 0.97233892]\n",
      " [0.08982084 0.96768327]\n",
      " [0.10183914 0.96301375]\n",
      " [0.11366297 0.95833001]\n",
      " [0.12529522 0.9536317 ]\n",
      " [0.1367387  0.94891847]\n",
      " [0.14799621 0.94418996]\n",
      " [0.15907051 0.9394458 ]\n",
      " [0.16996433 0.93468562]\n",
      " [0.18068035 0.92990905]\n",
      " [0.19122123 0.92511569]\n",
      " [0.2015896  0.92030517]\n",
      " [0.21178804 0.91547707]\n",
      " [0.22181909 0.91063099]\n",
      " [0.23168528 0.90576652]\n",
      " [0.24138908 0.90088323]\n",
      " [0.25093295 0.8959807 ]\n",
      " [0.2603193  0.89105848]\n",
      " [0.26955051 0.88611613]\n",
      " [0.27862893 0.88115318]\n",
      " [0.28755685 0.87616917]\n",
      " [0.29633658 0.87116361]\n",
      " [0.30497034 0.86613603]\n",
      " [0.31346035 0.86108591]\n",
      " [0.32180879 0.85601274]\n",
      " [0.3300178  0.85091601]\n",
      " [0.3380895  0.84579516]\n",
      " [0.34602596 0.84064965]\n",
      " [0.35382924 0.83547891]\n",
      " [0.36150134 0.83028237]\n",
      " [0.36904426 0.82505943]\n",
      " [0.37645993 0.81980946]\n",
      " [0.38375029 0.81453186]\n",
      " [0.39091721 0.80922596]\n",
      " [0.39796256 0.80389111]\n",
      " [0.40488817 0.79852661]\n",
      " [0.41169582 0.79313177]\n",
      " [0.41838727 0.78770587]\n",
      " [0.42496428 0.78224814]\n",
      " [0.43142853 0.77675783]\n",
      " [0.4377817  0.77123413]\n",
      " [0.44402544 0.76567623]\n",
      " [0.45016135 0.76008328]\n",
      " [0.45619103 0.75445439]]\n"
     ]
    }
   ],
   "source": [
    "Y_result = odeint(dYvecdV, Y0, W_output) # integración\n",
    "X, y = Y_result.T \n",
    "print(Y_result)"
   ]
  },
  {
   "cell_type": "markdown",
   "metadata": {},
   "source": [
    "Graficar lo resultados"
   ]
  },
  {
   "cell_type": "code",
   "execution_count": 7,
   "metadata": {},
   "outputs": [
    {
     "data": {
      "image/png": "[encoded data removed]",
      "text/plain": [
       "<Figure size 432x288 with 1 Axes>"
      ]
     },
     "metadata": {
      "needs_background": "light"
     },
     "output_type": "display_data"
    }
   ],
   "source": [
    "epsilon = -0.15\n",
    "f = (1+epsilon*X)/y # Flujo volumétrico\n",
    "\n",
    "plt.plot(W_output, X, label='X (conversión)')\n",
    "plt.plot(W_output, y, label='y ($P/P_0$)')\n",
    "plt.plot(W_output, f, label='f ($v/v_0$)')\n",
    "plt.legend(loc='upper left')\n",
    "plt.xlabel('peso del catalizador (kg)')\n",
    "\n",
    "plt.show()"
   ]
  }
 ],
 "metadata": {
  "kernelspec": {
   "display_name": "Python 3 (ipykernel)",
   "language": "python",
   "name": "python3"
  },
  "language_info": {
   "codemirror_mode": {
    "name": "ipython",
    "version": 3
   },
   "file_extension": ".py",
   "mimetype": "text/x-python",
   "name": "python",
   "nbconvert_exporter": "python",
   "pygments_lexer": "ipython3",
   "version": "3.9.7"
  }
 },
 "nbformat": 4,
 "nbformat_minor": 1
}
