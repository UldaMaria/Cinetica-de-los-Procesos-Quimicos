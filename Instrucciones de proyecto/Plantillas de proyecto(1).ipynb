{
 "cells": [
  {
   "cell_type": "markdown",
   "id": "b093f089",
   "metadata": {},
   "source": [
    "# Código General para  PFR proyecto \n",
    "  ## Problema con flujo molar\n",
    "  Guía para Simulación de Producción de monóxido de carbono e hidrógeno a partir de\n",
    "formaldehído"
   ]
  },
  {
   "cell_type": "code",
   "execution_count": 1,
   "id": "d02cf076",
   "metadata": {},
   "outputs": [],
   "source": [
    "#importar librería para evaluar la integral de la fórmula del reactor PFR\n",
    "from sympy import *\n",
    "init_printing()"
   ]
  },
  {
   "cell_type": "code",
   "execution_count": 2,
   "id": "35907f43",
   "metadata": {},
   "outputs": [],
   "source": [
    "# definir datos del problema\n",
    "XA= 0.73 #colocar la converión requerida\n",
    "Fa0 = 0.199 #mol/s flujo molar\n",
    "K = 0.014 #s^-1\n",
    "Ya0 = 1\n",
    "P = 107 #Pascales\n",
    "T =400 #Kelvin\n",
    "R =8.314 #Cte de los gases\n"
   ]
  },
  {
   "cell_type": "code",
   "execution_count": 3,
   "id": "f6ba770a",
   "metadata": {},
   "outputs": [],
   "source": [
    "# Definir funciones del problema \n",
    "Ca_0 = (Ya0*P)/(R*T) #mol/L\n",
    "V0 = Fa0/Ca_0\n",
    "x = symbols(\"x\") #x representa la variable de la conversión\n",
    "f=1/(K*Ca_0*(1-x)) #f representa la función dentro de la integral\n",
    "V = Ca_0*V0*integrate(f, (x,0,0.73)) #los datos entre paréntesis representan lo límites de la integral definida en función de la conversión"
   ]
  },
  {
   "cell_type": "code",
   "execution_count": 4,
   "id": "eea71cbf",
   "metadata": {},
   "outputs": [
    {
     "name": "stdout",
     "output_type": "stream",
     "text": [
      "578.444231574541\n"
     ]
    }
   ],
   "source": [
    "print(V) #encontrar valor de volumen "
   ]
  },
  {
   "cell_type": "markdown",
   "id": "9f2f9432",
   "metadata": {},
   "source": [
    "  ## Problema con flujo volumétrico\n",
    "   Guía para Simulación de Isomerización de Cis-2-buteno a Trans-2-buteno:"
   ]
  },
  {
   "cell_type": "code",
   "execution_count": 5,
   "id": "d481c4d8",
   "metadata": {},
   "outputs": [
    {
     "name": "stdout",
     "output_type": "stream",
     "text": [
      "25.2\n"
     ]
    }
   ],
   "source": [
    "# definir datos del problema\n",
    "XA= 0.78 #colocar la converión requerida\n",
    "V0 = 0.8 #m3/h flujo volumétrico\n",
    "K = (0.42*60) #conversión de min^-1 a h^-1\n",
    "\n",
    "print(K)"
   ]
  },
  {
   "cell_type": "code",
   "execution_count": 6,
   "id": "dc48fc3e",
   "metadata": {},
   "outputs": [],
   "source": [
    "x = symbols(\"x\") #x representa la variable de la conversión\n",
    "f=1/((1-x)) #f representa la función dentro de la integral\n",
    "V =(V0/K)*integrate(f, (x,0,0.78)) #los datos entre paréntesis representan lo límites de la integral definida en función de la conversión"
   ]
  },
  {
   "cell_type": "code",
   "execution_count": 7,
   "id": "81b44431",
   "metadata": {},
   "outputs": [
    {
     "name": "stdout",
     "output_type": "stream",
     "text": [
      "0.0480675470676119\n"
     ]
    }
   ],
   "source": [
    "print(V)"
   ]
  },
  {
   "cell_type": "markdown",
   "id": "13f5c542",
   "metadata": {},
   "source": [
    "# Código general para CSTR\n",
    " Guía para Simulación de Producción de monóxido de carbono e hidrógeno a partir de\n",
    "formaldehído"
   ]
  },
  {
   "cell_type": "code",
   "execution_count": 8,
   "id": "09d7c409",
   "metadata": {},
   "outputs": [],
   "source": [
    "# definir datos del problema\n",
    "XA= 0.98 #colocar la converión requerida\n",
    "Fa0 = 0.22 #mol/s flujo molar\n",
    "K = 0.34 #s^-1\n",
    "Ya0 = 1\n",
    "P = 103.421 #Pascales\n",
    "T =298 #Kelvin\n",
    "R =8.314 #Cte de los gases"
   ]
  },
  {
   "cell_type": "code",
   "execution_count": 9,
   "id": "7c1815c2",
   "metadata": {},
   "outputs": [
    {
     "name": "stdout",
     "output_type": "stream",
     "text": [
      "0.0002838516095596821\n"
     ]
    }
   ],
   "source": [
    "# Definir funciones del problema \n",
    "Ca_0 = (Ya0*P)/(R*T) #mol/L\n",
    "V0 = Fa0/Ca_0\n",
    "rA= (K*Ca_0)*(1-XA)\n",
    "V = (Ca_0*V0*XA)/rA\n",
    "print(rA)"
   ]
  },
  {
   "cell_type": "code",
   "execution_count": 10,
   "id": "d95014d7",
   "metadata": {},
   "outputs": [
    {
     "name": "stdout",
     "output_type": "stream",
     "text": [
      "759.5517965687926\n"
     ]
    }
   ],
   "source": [
    "print(V)"
   ]
  },
  {
   "cell_type": "markdown",
   "id": "989da4c9",
   "metadata": {},
   "source": [
    " Guía para Simulación de Isomerización de Cis-2-buteno a Trans-2-buteno:"
   ]
  },
  {
   "cell_type": "code",
   "execution_count": 11,
   "id": "7b75e678",
   "metadata": {},
   "outputs": [
    {
     "name": "stdout",
     "output_type": "stream",
     "text": [
      "27.0\n"
     ]
    }
   ],
   "source": [
    "# definir datos del problema\n",
    "XA= 0.77 #colocar la converión requerida\n",
    "K = (0.45*60) #conversión de min^-1 a h^-1\n",
    "V0 = 0.9 #m3/h flujo volumétrico\n",
    "print(K)"
   ]
  },
  {
   "cell_type": "code",
   "execution_count": 12,
   "id": "27084490",
   "metadata": {},
   "outputs": [],
   "source": [
    "#V= Fa_0*XA/rA\n",
    "#Fa_0= Ca_0*XA*V0/K*Ca_0*(1-XA)\n",
    "V=(V0*XA)/(K*(1-XA))"
   ]
  },
  {
   "cell_type": "code",
   "execution_count": 13,
   "id": "a7ed33b2",
   "metadata": {},
   "outputs": [
    {
     "name": "stdout",
     "output_type": "stream",
     "text": [
      "0.11159420289855075\n"
     ]
    }
   ],
   "source": [
    "print(V)"
   ]
  },
  {
   "cell_type": "markdown",
   "id": "762dc497",
   "metadata": {},
   "source": [
    "# PFR y estequiometría\n",
    " Guía para Simulación de Reacción de descomposición del NOCl en NO y Cl2:\n"
   ]
  },
  {
   "cell_type": "code",
   "execution_count": 14,
   "id": "75e3f45d",
   "metadata": {},
   "outputs": [
    {
     "name": "stdout",
     "output_type": "stream",
     "text": [
      "838.478934015219\n"
     ]
    }
   ],
   "source": [
    "# definir datos del problema\n",
    "XA= 0.9 #colocar la converión requerida\n",
    "Fa0 = 8 #mol/s flujo molar\n",
    "Ca_0= 0.7 #mol/dm3\n",
    "K = 0.29 #dm3/mol*s\n",
    "V0=10 #m3/s\n",
    "Ya_0=1\n",
    "delta=(1+(1/2)-1)\n",
    "epsilon=Ya_0*delta\n",
    "x = symbols(\"x\")\n",
    "Ca= (Ca_0*(1-x))/(1+(epsilon*x))\n",
    "rA=K*((Ca)**2)\n",
    "f=((1+(epsilon*x))**2)/((1-x)**2)\n",
    "Result= integrate(f, (x,0,0.9))\n",
    "V=Result*V0/(K*Ca_0)\n",
    "print(V)"
   ]
  },
  {
   "cell_type": "markdown",
   "id": "be8e7f1d",
   "metadata": {},
   "source": [
    "## Problema PFR \n",
    "Guía para Reacción de síntesis de Metanotiol\n"
   ]
  },
  {
   "cell_type": "code",
   "execution_count": 15,
   "id": "feecd8bc",
   "metadata": {},
   "outputs": [
    {
     "name": "stdout",
     "output_type": "stream",
     "text": [
      "0.010025276227689062\n"
     ]
    }
   ],
   "source": [
    "#Datos de problema\n",
    "\n",
    "#Entrada\n",
    "Ya_0=0.4 #metano reactivo limitante\n",
    "Yb_0=0.4 #azufre reactivo en exceso\n",
    "Yinerte=0.2\n",
    "FT_0=15 #mol/s flujo total inicial\n",
    "\n",
    "#Salida del reactor\n",
    "XA=0.8 #conversión a la salida del reactor\n",
    "\n",
    "#Codiciones de reactor\n",
    "T=700 #C\n",
    "T0=700+273.15 #Kelvin\n",
    "P= 2 #atm presión constante\n",
    "#rA=K*Ca*Cb\n",
    "K=15 #L/mol*s\n",
    "R=0.082 #L*atm/mol*K\n",
    "\n",
    "#Determinando CA_0\n",
    "CA_0=(P*Ya_0)/(R*T0)\n",
    "print(CA_0)\n"
   ]
  },
  {
   "cell_type": "markdown",
   "id": "fb3f426b",
   "metadata": {},
   "source": [
    "**Ecuación de diseño para PFR**\n",
    "$tao = Ca0\\int_0^x 1/(-rA) dxA$"
   ]
  },
  {
   "cell_type": "code",
   "execution_count": 16,
   "id": "4f0cc785",
   "metadata": {},
   "outputs": [
    {
     "name": "stdout",
     "output_type": "stream",
     "text": [
      "1.0\n"
     ]
    }
   ],
   "source": [
    "#términos de conversión:\n",
    "#Ca=CA_0*(1-XA)/(1+(epsilon*XA))\n",
    "#Cb=CA_0*(Mb-(b/a*XA))/((1-XA)/(1+(epsilon*XA)))\n",
    "MB=Yb_0/Ya_0\n",
    "print(MB)\n"
   ]
  },
  {
   "cell_type": "code",
   "execution_count": 17,
   "id": "4524579c",
   "metadata": {},
   "outputs": [
    {
     "name": "stdout",
     "output_type": "stream",
     "text": [
      "-0.4\n"
     ]
    }
   ],
   "source": [
    "#Razón de cambio\n",
    "#deltan=sumatoria de coef reactivos -sumatoria coef productos\n",
    "deltan=(1-(1+1))\n",
    "a=1 #coef estequiométrico del reactivo limitante\n",
    "epsilon=Ya_0*deltan/a\n",
    "print(epsilon)\n"
   ]
  },
  {
   "cell_type": "code",
   "execution_count": 18,
   "id": "823dc63c",
   "metadata": {},
   "outputs": [
    {
     "name": "stdout",
     "output_type": "stream",
     "text": [
      "7.15404760837253\n"
     ]
    }
   ],
   "source": [
    "#Sutituyendo en ecuación de velocidad de la reacción\n",
    "#rA=K*((CA_0)**2)*((1-XA)*(MB-XA)/((1+(epsilon*XA)))**2)\n",
    "\n",
    "#sustituyendo en la ecuación de diseño\n",
    "\n",
    "x = symbols(\"x\") #x representa la variable de la conversión\n",
    "f=(((1+(epsilon*x)))**2)/((1-x)*(MB-x)) #f representa la función dentro de la integral\n",
    "t =(1/(K*CA_0))*integrate(f, (x,0,0.6)) \n",
    "print(t) #tiempo de residencia en segundos\n"
   ]
  },
  {
   "cell_type": "markdown",
   "id": "206dc5f1",
   "metadata": {},
   "source": [
    "### Calculando volumen para % de conversión"
   ]
  },
  {
   "cell_type": "code",
   "execution_count": 19,
   "id": "b0482892",
   "metadata": {},
   "outputs": [
    {
     "name": "stdout",
     "output_type": "stream",
     "text": [
      "4281.60627950396\n"
     ]
    }
   ],
   "source": [
    "#se sabe que el tiempo de residencia es igual al V/V0\n",
    "Fa0=FT_0*Ya_0 #mol/s\n",
    "V0=Fa0/CA_0 #L/s\n",
    "V=V0*t\n",
    "print(V) #L\n"
   ]
  },
  {
   "cell_type": "markdown",
   "id": "45750259",
   "metadata": {},
   "source": [
    "### Cálculo de espacio velocidad medio"
   ]
  },
  {
   "cell_type": "code",
   "execution_count": 20,
   "id": "03c3785a",
   "metadata": {},
   "outputs": [
    {
     "name": "stdout",
     "output_type": "stream",
     "text": [
      "0.139781009959967\n"
     ]
    }
   ],
   "source": [
    "S=1/t\n",
    "print(S)"
   ]
  },
  {
   "cell_type": "code",
   "execution_count": null,
   "id": "a44b33de",
   "metadata": {},
   "outputs": [],
   "source": []
  }
 ],
 "metadata": {
  "kernelspec": {
   "display_name": "Python 3 (ipykernel)",
   "language": "python",
   "name": "python3"
  },
  "language_info": {
   "codemirror_mode": {
    "name": "ipython",
    "version": 3
   },
   "file_extension": ".py",
   "mimetype": "text/x-python",
   "name": "python",
   "nbconvert_exporter": "python",
   "pygments_lexer": "ipython3",
   "version": "3.9.7"
  }
 },
 "nbformat": 4,
 "nbformat_minor": 5
}
